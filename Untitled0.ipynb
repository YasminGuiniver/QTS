{
  "nbformat": 4,
  "nbformat_minor": 0,
  "metadata": {
    "colab": {
      "provenance": []
    },
    "kernelspec": {
      "name": "python3",
      "display_name": "Python 3"
    },
    "language_info": {
      "name": "python"
    }
  },
  "cells": [
    {
      "cell_type": "markdown",
      "source": [
        "Lista sendo criada e deletando um dos indices"
      ],
      "metadata": {
        "id": "SCmYEutD4-Li"
      }
    },
    {
      "cell_type": "code",
      "execution_count": 1,
      "metadata": {
        "colab": {
          "base_uri": "https://localhost:8080/"
        },
        "id": "5YKbL4xY4feN",
        "outputId": "961785eb-47fd-4be9-b54d-6334c1c338b5"
      },
      "outputs": [
        {
          "output_type": "stream",
          "name": "stdout",
          "text": [
            "['Yasmin', 'Guiniver', 'Ingrid', 'João']\n",
            "['Yasmin', 'Ingrid', 'João']\n"
          ]
        }
      ],
      "source": [
        "lista = ['Yasmin' , 'Guiniver', 'Ingrid' ,'João']\n",
        "print(lista)\n",
        "\n",
        "del lista [1]\n",
        "print(lista)"
      ]
    },
    {
      "cell_type": "markdown",
      "source": [
        "Removendo a ultima posição ou o dado especificado usando POP"
      ],
      "metadata": {
        "id": "iNLc4EnO5Ia3"
      }
    },
    {
      "cell_type": "code",
      "source": [
        "lista2 = ['Yasmin' , 'Ingrid' , 'Guniver' , 'Isis' , 'Ellen']\n",
        "print(lista2)\n",
        "\n",
        "lista2.pop()\n",
        "print(lista2)\n",
        "\n",
        "lista2.pop(-1) #Esse daqui conta do ultimo,ou seja vai pegar o ultimo numero [4] \n",
        "#e subtrai 1 então vai ser removido o indice [3]\n",
        "print(lista2)"
      ],
      "metadata": {
        "colab": {
          "base_uri": "https://localhost:8080/"
        },
        "id": "PYpec_ca5Onk",
        "outputId": "fd1803f8-ab14-45d5-9915-1199fb0110ec"
      },
      "execution_count": 4,
      "outputs": [
        {
          "output_type": "stream",
          "name": "stdout",
          "text": [
            "['Yasmin', 'Ingrid', 'Guniver', 'Isis', 'Ellen']\n",
            "['Yasmin', 'Ingrid', 'Guniver', 'Isis']\n",
            "['Yasmin', 'Ingrid', 'Isis']\n"
          ]
        }
      ]
    },
    {
      "cell_type": "markdown",
      "source": [
        "Esse daqui mostra qual é o valor do indice que o texto está -- São Paulo ta no zero então devolve o valor 0"
      ],
      "metadata": {
        "id": "Seyzx81c7ABy"
      }
    },
    {
      "cell_type": "code",
      "source": [
        "lista3 = ['São Paulo', 'Corinthians' , 'Santos' , 'Palmeiras']\n",
        "print(lista3)\n",
        "\n",
        "print(lista3.index('São Paulo'))\n",
        "\n",
        "#O in verfica se o texto está dentro do vetor, se tiver retorna true, senão \n",
        "#false\n",
        "print('Portuguesa' in lista3)\n",
        "print('São Paulo' in lista3)"
      ],
      "metadata": {
        "colab": {
          "base_uri": "https://localhost:8080/"
        },
        "id": "xNBpBgy_6pPN",
        "outputId": "66ff3d39-2ef0-4bb9-af31-a251619da27e"
      },
      "execution_count": 9,
      "outputs": [
        {
          "output_type": "stream",
          "name": "stdout",
          "text": [
            "['São Paulo', 'Corinthians', 'Santos', 'Palmeiras']\n",
            "0\n",
            "False\n",
            "True\n"
          ]
        }
      ]
    },
    {
      "cell_type": "markdown",
      "source": [
        "Concatenando os vetores\n"
      ],
      "metadata": {
        "id": "cW_A64oK8CYV"
      }
    },
    {
      "cell_type": "code",
      "source": [
        "lista4 = [1,2,3]\n",
        "lista5 = [10,20,30]\n",
        "listasJuntas = lista4 + lista5\n",
        "\n",
        "print(listasJuntas)\n",
        "\n",
        "#outro jeito\n",
        "listaRepetida = lista4 * 2\n",
        "print(listaRepetida)"
      ],
      "metadata": {
        "colab": {
          "base_uri": "https://localhost:8080/"
        },
        "id": "35KBQhOq8FnO",
        "outputId": "13b8b012-9b7c-4cef-8087-83dad7caf48c"
      },
      "execution_count": 12,
      "outputs": [
        {
          "output_type": "stream",
          "name": "stdout",
          "text": [
            "[1, 2, 3, 10, 20, 30]\n",
            "[1, 2, 3, 1, 2, 3]\n"
          ]
        }
      ]
    },
    {
      "cell_type": "markdown",
      "source": [
        "Somando os valores / maior valor / menor valor"
      ],
      "metadata": {
        "id": "AK5AztuV8_rl"
      }
    },
    {
      "cell_type": "code",
      "source": [
        "lista5 = [1 , 2 , 3]\n",
        "print(sum(lista5))\n",
        "print(max(lista5))\n",
        "print(min(lista5))\n"
      ],
      "metadata": {
        "colab": {
          "base_uri": "https://localhost:8080/"
        },
        "id": "zXi-u0tM9BtF",
        "outputId": "bb9cb3fd-5871-4240-9ad1-497bed4360a4"
      },
      "execution_count": 14,
      "outputs": [
        {
          "output_type": "stream",
          "name": "stdout",
          "text": [
            "6\n",
            "3\n",
            "1\n"
          ]
        }
      ]
    },
    {
      "cell_type": "markdown",
      "source": [
        "  Para saber quantos elementos estão na lista (vetor)"
      ],
      "metadata": {
        "id": "GbyyhIFy-muG"
      }
    },
    {
      "cell_type": "code",
      "source": [
        "lista6 = [10 , 20 , 30 , 40 , 50]\n",
        "print(len(lista6))"
      ],
      "metadata": {
        "colab": {
          "base_uri": "https://localhost:8080/"
        },
        "id": "S3h9tZ7t-raA",
        "outputId": "6915b415-95f0-4ee4-fe3f-6381ad460eef"
      },
      "execution_count": 15,
      "outputs": [
        {
          "output_type": "stream",
          "name": "stdout",
          "text": [
            "5\n"
          ]
        }
      ]
    },
    {
      "cell_type": "markdown",
      "source": [
        "Apresentando os valores nos indices (o numero negativo serve pra apresentar de trás pra frente também"
      ],
      "metadata": {
        "id": "s_JWWFdZAYAr"
      }
    },
    {
      "cell_type": "code",
      "source": [
        "lista7 = [10 , 20 , 30 , 40 , 50 , 60 , 70 , 80 , 90 , 100]\n",
        "\n",
        "print('Primeiro item da lista' , lista7[0])\n",
        "print('Ultimo item da lista' , lista7[-1])"
      ],
      "metadata": {
        "colab": {
          "base_uri": "https://localhost:8080/"
        },
        "id": "SVJ04AG1AFEg",
        "outputId": "f9fd40b7-09f1-468b-9142-c58e8718cffa"
      },
      "execution_count": 16,
      "outputs": [
        {
          "output_type": "stream",
          "name": "stdout",
          "text": [
            "Primeiro item da lista 10\n",
            "Ultimo item da lista 100\n"
          ]
        }
      ]
    }
  ]
}