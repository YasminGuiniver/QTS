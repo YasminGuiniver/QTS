{
  "nbformat": 4,
  "nbformat_minor": 0,
  "metadata": {
    "colab": {
      "provenance": []
    },
    "kernelspec": {
      "name": "python3",
      "display_name": "Python 3"
    },
    "language_info": {
      "name": "python"
    }
  },
  "cells": [
    {
      "cell_type": "markdown",
      "source": [
        "1-Faça um programa que leia um número digitado pelo usuário e apresente o seu sucessor e seu antecessor. "
      ],
      "metadata": {
        "id": "8_Z5PDAzGuy3"
      }
    },
    {
      "cell_type": "code",
      "source": [
        "numero = input('Digite um numero:')\n",
        "antecessor = int(numero) - 1\n",
        "sucessor = int(numero) + 1\n",
        "print('Numero digitado:',numero, '\\nSeu sucessor:',sucessor, '\\nSeu antecessor:',antecessor)"
      ],
      "metadata": {
        "colab": {
          "base_uri": "https://localhost:8080/"
        },
        "id": "uf7152fi4Q0a",
        "outputId": "76dd21ff-34ff-49f7-d2f1-4d3cb2d93ce5"
      },
      "execution_count": 20,
      "outputs": [
        {
          "output_type": "stream",
          "name": "stdout",
          "text": [
            "Digite um numero:5\n",
            "Numero digitado: 5 \n",
            "Seu sucessor: 6 \n",
            "Seu antecessor: 4\n"
          ]
        }
      ]
    },
    {
      "cell_type": "markdown",
      "source": [
        "2-Desenvolva um programa que leia três notas de um aluno e calcule a sua média aritmética. \n",
        "\n",
        " "
      ],
      "metadata": {
        "id": "oBTTnYLeGxSR"
      }
    },
    {
      "cell_type": "code",
      "source": [
        "nota1 = input('Digite a 1° nota:')\n",
        "nota2 = input('Digite a 2° nota:')\n",
        "nota3 = input('Digite a 3° nota:')\n",
        "media = (int(nota1) + int(nota2) + int(nota3)) / 3\n",
        "print('Segundo as suas notas, sua media é de:',media)"
      ],
      "metadata": {
        "colab": {
          "base_uri": "https://localhost:8080/"
        },
        "id": "sXjORFIx4wfZ",
        "outputId": "47721f2e-2879-48d3-913d-6a7ef7530796"
      },
      "execution_count": 22,
      "outputs": [
        {
          "output_type": "stream",
          "name": "stdout",
          "text": [
            "Digite a 1° nota:10\n",
            "Digite a 2° nota:10\n",
            "Digite a 3° nota:10\n",
            "Segundo as suas notas, sua media é de: 10.0\n"
          ]
        }
      ]
    },
    {
      "cell_type": "markdown",
      "source": [
        "3-Faça um algoritmo que leia o salário de um funcionário e mostre seu novo salário, com 15% de aumento. "
      ],
      "metadata": {
        "id": "k05eopzQG1YL"
      }
    },
    {
      "cell_type": "code",
      "source": [
        "salario = input('Digite seu salario:')\n",
        "aumento = (float(salario)*0.15)\n",
        "novoSalario = float(salario) + float(aumento)\n",
        "print('O aumento é de:',aumento, '\\nSeu novo salario é de: ',novoSalario)\n"
      ],
      "metadata": {
        "colab": {
          "base_uri": "https://localhost:8080/"
        },
        "id": "VNmQNl_-5n-A",
        "outputId": "cbf9c32f-c295-4306-e478-2aa60230a63b"
      },
      "execution_count": 25,
      "outputs": [
        {
          "output_type": "stream",
          "name": "stdout",
          "text": [
            "Digite seu salario:1200\n",
            "O aumento é de: 180.0 \n",
            "Seu novo salario é de:  1380.0\n"
          ]
        }
      ]
    },
    {
      "cell_type": "markdown",
      "source": [
        "4-Faça um programa que leia a largura e a altura de uma parede em Metro, calcule a sua área e \n",
        "\n",
        "a quantidade de tinta necessária para pintá-la, sabendo que cada lata de tinta pinta uma área de 2m². "
      ],
      "metadata": {
        "id": "0QqyyNWUG36F"
      }
    },
    {
      "cell_type": "code",
      "source": [
        "base = input('Digite a base da sua parede:')\n",
        "altura = input('Digite a altura da sua parede:')\n",
        "area = float(base) * float(altura)\n",
        "qtndLata = float(area) / 2\n",
        "print('A quantidade de latas de tintas que você precisa é de:',qtndLata) "
      ],
      "metadata": {
        "colab": {
          "base_uri": "https://localhost:8080/"
        },
        "id": "clYBKpsA7Trc",
        "outputId": "a9d1fda8-b5f6-42a6-8ca5-6ccb2f74a20f"
      },
      "execution_count": 28,
      "outputs": [
        {
          "output_type": "stream",
          "name": "stdout",
          "text": [
            "Digite a base da sua parede:10\n",
            "Digite a altura da sua parede:10\n",
            "A quantidade de latas de tintas que você precisa é de: 50.0\n"
          ]
        }
      ]
    },
    {
      "cell_type": "markdown",
      "source": [
        "5-Escreva um programa que faça o computador \"Pensar\" em um número inteiro entre 0 e 10 e solicite para o usuário tentar adivinhar qual foi o número escolhido pelo computador"
      ],
      "metadata": {
        "id": "GdSjo28LG87Q"
      }
    },
    {
      "cell_type": "code",
      "source": [
        "import random\n",
        "\n",
        "computador = int(random.randrange(1,10))\n",
        "numeroUsuario = int(input('Digite um numero de 1 a 10:'))\n",
        "if computador == numeroUsuario:\n",
        "  print('Você acertou!!')\n",
        "else:\n",
        "  print('Você errou! o numero era:',computador)"
      ],
      "metadata": {
        "colab": {
          "base_uri": "https://localhost:8080/"
        },
        "id": "d3kd-HQ69jUn",
        "outputId": "9f827ee5-fd12-4bd0-94f4-34ee49c69cf8"
      },
      "execution_count": 45,
      "outputs": [
        {
          "output_type": "stream",
          "name": "stdout",
          "text": [
            "Digite um numero de 1 a 10:9\n",
            "Você errou! o numero era: 6\n"
          ]
        }
      ]
    },
    {
      "cell_type": "markdown",
      "source": [
        "6-Crie um programa que realize o jogo de par ou ímpar.  \n",
        "Onde o usuário tem a opção de escolher primeiro (Par ou Ímpar), em seguida o usuário digita um número o computador randomiza outro número e a soma dos dois revelara o resultado e consequentemente o vencedor. "
      ],
      "metadata": {
        "id": "jzT3Zk6QG_US"
      }
    },
    {
      "cell_type": "code",
      "source": [
        "import random\n",
        "\n",
        "print('Escolha par ou impar:')\n",
        "print('[ 1 ] - Ímpar \\n' '[ 2 ] - Par' )\n",
        "escolha = int(input())\n",
        "print('Digite um numero (de 0 a 10)')\n",
        "numero = int(input())\n",
        "\n",
        "computador = int(random.randrange(0,10))\n",
        "\n",
        "soma = int(numero) + int(computador)\n",
        "\n",
        "print('O computador escolheu ',computador)\n",
        "\n",
        "if soma % 2 == 0:\n",
        "  print('O numero é par')\n",
        "else:\n",
        "  print('O numero é impar')\n"
      ],
      "metadata": {
        "colab": {
          "base_uri": "https://localhost:8080/"
        },
        "id": "QkB0L3wbAt9N",
        "outputId": "04af473b-3654-4898-d26c-fe41e3bed288"
      },
      "execution_count": 65,
      "outputs": [
        {
          "output_type": "stream",
          "name": "stdout",
          "text": [
            "Escolha par ou impar:\n",
            "[ 1 ] - Ímpar \n",
            "[ 2 ] - Par\n",
            "1\n",
            "Digite um numero (de 0 a 10)\n",
            "9\n",
            "O computador escolheu  8\n",
            "O numero é impar\n"
          ]
        }
      ]
    }
  ]
}